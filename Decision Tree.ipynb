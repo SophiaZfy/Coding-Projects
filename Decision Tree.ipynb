{
 "cells": [
  {
   "cell_type": "markdown",
   "metadata": {},
   "source": [
    "## Build Decision Tree to Classify Salary Based on Other Variables"
   ]
  },
  {
   "cell_type": "raw",
   "metadata": {},
   "source": [
    "Occupation  Gender  Age  Salary\n",
    "Service     Female  45   $48,000\n",
    "            Male    25   $25,000\n",
    "            Male    33   $35,000\n",
    "Management  Male    25   $45,000\n",
    "            Female  35   $65,000\n",
    "            Male    26   $45,000\n",
    "            Female  45   $70,000\n",
    "Sales       Female  40   $50,000\n",
    "            Male    30   $40,000\n",
    "Staff       Female  50   $40,000\n",
    "            Male    25   $25,000"
   ]
  },
  {
   "cell_type": "markdown",
   "metadata": {},
   "source": [
    "### Only consider splits at the root"
   ]
  },
  {
   "cell_type": "code",
   "execution_count": 1,
   "metadata": {},
   "outputs": [],
   "source": [
    "import pandas as pd\n",
    "import numpy as np"
   ]
  },
  {
   "cell_type": "raw",
   "metadata": {},
   "source": [
    "The target variable Salary is discretized as:\n",
    "Less than $35,000             Level 1\n",
    "$35,000 to less than $45,000  Level 2\n",
    "$45,000 to less than $55,000  Level 3\n",
    "$55,000 and more              Level 4\n",
    "\n",
    "The predictor variable Age is discretized as:\n",
    "Less than 26         Level 1\n",
    "26 to less than 36   Level 2\n",
    "36 to less than 46   Level 3\n",
    "46 and older         Level 4\n",
    "\n",
    "The predictor variable Occupation is discretized as:\n",
    "Service      Level 1\n",
    "Management   Level 2\n",
    "Sales        Level 3\n",
    "Staff        Level 4"
   ]
  },
  {
   "cell_type": "code",
   "execution_count": 2,
   "metadata": {},
   "outputs": [
    {
     "data": {
      "text/html": [
       "<div>\n",
       "<style scoped>\n",
       "    .dataframe tbody tr th:only-of-type {\n",
       "        vertical-align: middle;\n",
       "    }\n",
       "\n",
       "    .dataframe tbody tr th {\n",
       "        vertical-align: top;\n",
       "    }\n",
       "\n",
       "    .dataframe thead th {\n",
       "        text-align: right;\n",
       "    }\n",
       "</style>\n",
       "<table border=\"1\" class=\"dataframe\">\n",
       "  <thead>\n",
       "    <tr style=\"text-align: right;\">\n",
       "      <th></th>\n",
       "      <th>Occupation</th>\n",
       "      <th>Gender</th>\n",
       "      <th>Age</th>\n",
       "      <th>Salary</th>\n",
       "    </tr>\n",
       "  </thead>\n",
       "  <tbody>\n",
       "    <tr>\n",
       "      <th>0</th>\n",
       "      <td>1</td>\n",
       "      <td>1</td>\n",
       "      <td>3</td>\n",
       "      <td>3</td>\n",
       "    </tr>\n",
       "    <tr>\n",
       "      <th>1</th>\n",
       "      <td>1</td>\n",
       "      <td>2</td>\n",
       "      <td>1</td>\n",
       "      <td>1</td>\n",
       "    </tr>\n",
       "    <tr>\n",
       "      <th>2</th>\n",
       "      <td>1</td>\n",
       "      <td>2</td>\n",
       "      <td>2</td>\n",
       "      <td>2</td>\n",
       "    </tr>\n",
       "    <tr>\n",
       "      <th>3</th>\n",
       "      <td>2</td>\n",
       "      <td>2</td>\n",
       "      <td>1</td>\n",
       "      <td>3</td>\n",
       "    </tr>\n",
       "    <tr>\n",
       "      <th>4</th>\n",
       "      <td>2</td>\n",
       "      <td>2</td>\n",
       "      <td>2</td>\n",
       "      <td>3</td>\n",
       "    </tr>\n",
       "    <tr>\n",
       "      <th>5</th>\n",
       "      <td>2</td>\n",
       "      <td>1</td>\n",
       "      <td>2</td>\n",
       "      <td>4</td>\n",
       "    </tr>\n",
       "    <tr>\n",
       "      <th>6</th>\n",
       "      <td>2</td>\n",
       "      <td>1</td>\n",
       "      <td>3</td>\n",
       "      <td>4</td>\n",
       "    </tr>\n",
       "    <tr>\n",
       "      <th>7</th>\n",
       "      <td>3</td>\n",
       "      <td>1</td>\n",
       "      <td>3</td>\n",
       "      <td>3</td>\n",
       "    </tr>\n",
       "    <tr>\n",
       "      <th>8</th>\n",
       "      <td>3</td>\n",
       "      <td>2</td>\n",
       "      <td>2</td>\n",
       "      <td>2</td>\n",
       "    </tr>\n",
       "    <tr>\n",
       "      <th>9</th>\n",
       "      <td>4</td>\n",
       "      <td>1</td>\n",
       "      <td>4</td>\n",
       "      <td>2</td>\n",
       "    </tr>\n",
       "    <tr>\n",
       "      <th>10</th>\n",
       "      <td>4</td>\n",
       "      <td>2</td>\n",
       "      <td>1</td>\n",
       "      <td>1</td>\n",
       "    </tr>\n",
       "  </tbody>\n",
       "</table>\n",
       "</div>"
      ],
      "text/plain": [
       "    Occupation  Gender  Age  Salary\n",
       "0            1       1    3       3\n",
       "1            1       2    1       1\n",
       "2            1       2    2       2\n",
       "3            2       2    1       3\n",
       "4            2       2    2       3\n",
       "5            2       1    2       4\n",
       "6            2       1    3       4\n",
       "7            3       1    3       3\n",
       "8            3       2    2       2\n",
       "9            4       1    4       2\n",
       "10           4       2    1       1"
      ]
     },
     "execution_count": 2,
     "metadata": {},
     "output_type": "execute_result"
    }
   ],
   "source": [
    "df=pd.DataFrame(np.array([[1,1,3,3],[1,2,1,1],[1,2,2,2],[2,2,1,3],[2,2,2,3],[2,1,2,4],[2,1,3,4],[3,1,3,3],[3,2,2,2],\n",
    "                          [4,1,4,2],[4,2,1,1]]),columns=['Occupation','Gender','Age','Salary'])\n",
    "df"
   ]
  },
  {
   "cell_type": "code",
   "execution_count": 3,
   "metadata": {},
   "outputs": [
    {
     "name": "stdout",
     "output_type": "stream",
     "text": [
      "1    0.181818\n",
      "2    0.272727\n",
      "3    0.363636\n",
      "4    0.181818\n",
      "Name: Salary, dtype: float64\n",
      "Enrtopy before splitting is  1.9362600275315274\n"
     ]
    }
   ],
   "source": [
    "## Calculate entropy of salary\n",
    "Salary=df['Salary']\n",
    "proportion=Salary.value_counts()/len(Salary)\n",
    "prop1=proportion.sort_index()\n",
    "prop1.to_frame()\n",
    "print(prop1)\n",
    "prop1=-prop1*np.log2(prop1)\n",
    "h=sum(prop1)\n",
    "print('Enrtopy before splitting is ',h)"
   ]
  },
  {
   "cell_type": "markdown",
   "metadata": {},
   "source": [
    "###### Entropies on candidate splits"
   ]
  },
  {
   "cell_type": "code",
   "execution_count": 4,
   "metadata": {
    "scrolled": true
   },
   "outputs": [
    {
     "name": "stdout",
     "output_type": "stream",
     "text": [
      "Entropy matrix [0, 0.46438561897747244, 0.5287712379549449, 0.5287712379549449, 0.5283208335737187, 0.5283208335737187, 0.5283208335737187, 0]\n",
      "Weight of each child note [[0.45454545]\n",
      " [0.54545455]]\n",
      "Overall entropy of Gender is [1.5563105]\n",
      "Information Gained represented by split on Gender is [0.37994953]\n"
     ]
    }
   ],
   "source": [
    "## Consider splitting by Gender\n",
    "Gender=df['Gender']\n",
    "def entropy(Attribute):\n",
    "    Attribute.to_frame()\n",
    "    x=Attribute.unique()\n",
    "    countbranches=[]\n",
    "    prob=[]\n",
    "    e=[]\n",
    "    for i in range(len(x)):   ## branches\n",
    "        valuex=Attribute[Attribute==i+1]\n",
    "        countbranches=valuex.count()\n",
    "        prob.append(countbranches/len(Attribute)) ## proportion of each branch \n",
    "        for j in range(4):   ## each level of outcome within branch i\n",
    "            valuey=valuex[Salary==j+1]\n",
    "            count=valuey.count()\n",
    "            propAtt=count/countbranches\n",
    "            if count==0:\n",
    "                entropies=0  ## if predictor category i has no outcome j, then the corresponding entropy is 0\n",
    "            else:\n",
    "                entropies=-np.log2(propAtt)*propAtt \n",
    "            e.append(entropies)\n",
    "            i+=1\n",
    "    ## transforming list output to matrix      \n",
    "    # entropy matrix is a n*4 matrix where n is determined by number of child notes in this attribute\n",
    "    a=np.array(e)\n",
    "    shape=(len(x),4)\n",
    "    ent=a.reshape(shape)\n",
    "    b=np.array(prob) \n",
    "    shape2=(len(x),1)\n",
    "    wgt=b.reshape(shape2)\n",
    "    branch_ent=np.sum(ent,axis=1) \n",
    "    ## Combine entropies for each branch with corresponding proportion \n",
    "    ## Use matrix multiplication\n",
    "    Hs=np.matmul(branch_ent,wgt) \n",
    "    print('Entropy matrix',e)\n",
    "    print('Weight of each child note',wgt)\n",
    "    print('Overall entropy of',Attribute.name,'is',Hs)\n",
    "    print('Information Gained represented by split on',Attribute.name, 'is',h-Hs)   \n",
    "entropy(Attribute=Gender)"
   ]
  },
  {
   "cell_type": "code",
   "execution_count": 5,
   "metadata": {},
   "outputs": [
    {
     "name": "stdout",
     "output_type": "stream",
     "text": [
      "Entropy matrix [0.38997500048077083, 0, 0.5283208335737187, 0, 0, 0.5, 0.5, 0.5, 0, 0, 0.38997500048077083, 0.5283208335737187, 0, -0.0, 0, 0]\n",
      "Weight of each child note [[0.27272727]\n",
      " [0.36363636]\n",
      " [0.27272727]\n",
      " [0.09090909]]\n",
      "Overall entropy of Age is [1.04634318]\n",
      "Information Gained represented by split on Age is [0.88991685]\n"
     ]
    }
   ],
   "source": [
    "## Apply the above function on splitting by Age\n",
    "Age=df['Age']\n",
    "entropy(Attribute=Age)"
   ]
  },
  {
   "cell_type": "code",
   "execution_count": 6,
   "metadata": {},
   "outputs": [
    {
     "name": "stdout",
     "output_type": "stream",
     "text": [
      "Entropy matrix [0.5283208335737187, 0.5283208335737187, 0.5283208335737187, 0, 0, 0, 0.5, 0.5, 0, 0.5, 0.5, 0, 0.5, 0.5, 0, 0]\n",
      "Weight of each child note [[0.27272727]\n",
      " [0.36363636]\n",
      " [0.18181818]\n",
      " [0.18181818]]\n",
      "Overall entropy of Occupation is [1.15953523]\n",
      "Information Gained represented by split on Occupation is [0.7767248]\n"
     ]
    }
   ],
   "source": [
    "## Consider splitting by Occupation\n",
    "Occupation=df['Occupation']\n",
    "entropy(Attribute=Occupation)"
   ]
  },
  {
   "cell_type": "markdown",
   "metadata": {},
   "source": [
    "#### Conclusion: Since splitting on Age gives the highest information gain of 0.88991685, Age is chosen to be splitted first"
   ]
  }
 ],
 "metadata": {
  "kernelspec": {
   "display_name": "Python 3",
   "language": "python",
   "name": "python3"
  },
  "language_info": {
   "codemirror_mode": {
    "name": "ipython",
    "version": 3
   },
   "file_extension": ".py",
   "mimetype": "text/x-python",
   "name": "python",
   "nbconvert_exporter": "python",
   "pygments_lexer": "ipython3",
   "version": "3.7.3"
  }
 },
 "nbformat": 4,
 "nbformat_minor": 2
}
